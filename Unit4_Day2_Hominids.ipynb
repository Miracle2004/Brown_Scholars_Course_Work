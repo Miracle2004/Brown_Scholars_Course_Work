{
 "cells": [
  {
   "cell_type": "markdown",
   "metadata": {},
   "source": [
    "# Exploring the hominid timeline\n",
    "\n",
    "In this notebook you'll get to practice creating and using dictionaries while discovering which hominin species lived at the same time."
   ]
  },
  {
   "cell_type": "markdown",
   "metadata": {},
   "source": [
    "Here is a list of hominid species and the time range when they are beleived to have lived (in millions of years ago):\n",
    "- A. anamensis (4.2 to 3.9 mya)\n",
    "- A. afarensis (3.6 to 2.9 mya)\n",
    "- K. platyops (3.5 to 3.3 mya)\n",
    "- A. africanus (3 to 2 mya)\n",
    "- A. aethiopicus (2.7 to 2.3 mya)\n",
    "- A. boisei (2.3 to 1.4 mya)\n",
    "- H. habilis (2.3 to 1.6 mya)\n",
    "- H. erectus (1.8 to 0.3 mya)\n",
    "- A. robustus (1.8 to 1.5 mya)\n",
    "- H. heidelbergensis (0.6 to 0.1 mya)\n",
    "- H. neanderthalensis (0.25 to 0.03 mya)\n",
    "- H. sapiens (0.1 to 0 mya)\n",
    "\n",
    "Create a dictionary with species as keys and lists containing the beginning and end of the range as the values:\n",
    "\n",
    "*Note: If your dictionary gets too long to fit on one line, you can hit the \"return\" key after a comma to make a new line*"
   ]
  },
  {
   "cell_type": "code",
   "execution_count": null,
   "metadata": {},
   "outputs": [],
   "source": []
  },
  {
   "cell_type": "markdown",
   "metadata": {},
   "source": [
    "Test out your dictionary by printing out the time range when A. boisei lived:"
   ]
  },
  {
   "cell_type": "code",
   "execution_count": null,
   "metadata": {},
   "outputs": [],
   "source": []
  },
  {
   "cell_type": "markdown",
   "metadata": {},
   "source": [
    "Now write code that sets a variable equal to a certain number of millions of years ago and prints out a **list** of all the hominid species that lived at that time:\n",
    "\n",
    "Hints: \n",
    "- You will need to create a new list\n",
    "- You will need to use a list index after a dictionary index\n",
    "- Remember that the time ranges go from more mya to fewer mya"
   ]
  },
  {
   "cell_type": "code",
   "execution_count": null,
   "metadata": {},
   "outputs": [],
   "source": []
  },
  {
   "cell_type": "markdown",
   "metadata": {},
   "source": [
    "Try re-running your code for the following numbers of millions of years:\n",
    "- 3 mya\n",
    "- 1.5 mya\n",
    "- 0.1 mya (100 years ago)"
   ]
  }
 ],
 "metadata": {
  "kernelspec": {
   "display_name": "Python 3",
   "language": "python",
   "name": "python3"
  },
  "language_info": {
   "codemirror_mode": {
    "name": "ipython",
    "version": 3
   },
   "file_extension": ".py",
   "mimetype": "text/x-python",
   "name": "python",
   "nbconvert_exporter": "python",
   "pygments_lexer": "ipython3",
   "version": "3.6.8"
  }
 },
 "nbformat": 4,
 "nbformat_minor": 2
}
